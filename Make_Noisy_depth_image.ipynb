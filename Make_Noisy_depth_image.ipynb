{
 "cells": [
  {
   "cell_type": "code",
   "execution_count": 9,
   "id": "1e916f2d",
   "metadata": {},
   "outputs": [
    {
     "name": "stderr",
     "output_type": "stream",
     "text": [
      "2022-03-16 06:36:50.080513: I tensorflow/stream_executor/cuda/cuda_gpu_executor.cc:939] successful NUMA node read from SysFS had negative value (-1), but there must be at least one NUMA node, so returning NUMA node zero\n",
      "2022-03-16 06:36:50.081403: I tensorflow/stream_executor/cuda/cuda_gpu_executor.cc:939] successful NUMA node read from SysFS had negative value (-1), but there must be at least one NUMA node, so returning NUMA node zero\n",
      "2022-03-16 06:36:50.087717: I tensorflow/stream_executor/cuda/cuda_gpu_executor.cc:939] successful NUMA node read from SysFS had negative value (-1), but there must be at least one NUMA node, so returning NUMA node zero\n",
      "2022-03-16 06:36:50.088504: I tensorflow/stream_executor/cuda/cuda_gpu_executor.cc:939] successful NUMA node read from SysFS had negative value (-1), but there must be at least one NUMA node, so returning NUMA node zero\n",
      "2022-03-16 06:36:50.089200: I tensorflow/stream_executor/cuda/cuda_gpu_executor.cc:939] successful NUMA node read from SysFS had negative value (-1), but there must be at least one NUMA node, so returning NUMA node zero\n",
      "2022-03-16 06:36:50.089930: I tensorflow/stream_executor/cuda/cuda_gpu_executor.cc:939] successful NUMA node read from SysFS had negative value (-1), but there must be at least one NUMA node, so returning NUMA node zero\n"
     ]
    }
   ],
   "source": [
    "import tensorflow as tf\n",
    "import pandas as pd\n",
    "import cv2\n",
    "import time\n",
    "from tqdm import tqdm\n",
    "import matplotlib.pyplot as plt\n",
    "import numpy as np\n",
    "from tqdm import tqdm\n",
    "gpus = tf.config.experimental.list_physical_devices(\"GPU\")\n",
    "for gpu in gpus:\n",
    "    tf.config.experimental.set_memory_growth(gpu,True)"
   ]
  },
  {
   "cell_type": "code",
   "execution_count": 10,
   "id": "555a5ef0",
   "metadata": {
    "scrolled": true
   },
   "outputs": [
    {
     "data": {
      "text/html": [
       "<div>\n",
       "<style scoped>\n",
       "    .dataframe tbody tr th:only-of-type {\n",
       "        vertical-align: middle;\n",
       "    }\n",
       "\n",
       "    .dataframe tbody tr th {\n",
       "        vertical-align: top;\n",
       "    }\n",
       "\n",
       "    .dataframe thead th {\n",
       "        text-align: right;\n",
       "    }\n",
       "</style>\n",
       "<table border=\"1\" class=\"dataframe\">\n",
       "  <thead>\n",
       "    <tr style=\"text-align: right;\">\n",
       "      <th></th>\n",
       "      <th>rgb</th>\n",
       "      <th>depth</th>\n",
       "    </tr>\n",
       "  </thead>\n",
       "  <tbody>\n",
       "    <tr>\n",
       "      <th>0</th>\n",
       "      <td>data/nyu2_train/living_room_0038_out/37.jpg</td>\n",
       "      <td>data/nyu2_train/living_room_0038_out/37.png</td>\n",
       "    </tr>\n",
       "    <tr>\n",
       "      <th>1</th>\n",
       "      <td>data/nyu2_train/living_room_0038_out/115.jpg</td>\n",
       "      <td>data/nyu2_train/living_room_0038_out/115.png</td>\n",
       "    </tr>\n",
       "    <tr>\n",
       "      <th>2</th>\n",
       "      <td>data/nyu2_train/living_room_0038_out/6.jpg</td>\n",
       "      <td>data/nyu2_train/living_room_0038_out/6.png</td>\n",
       "    </tr>\n",
       "    <tr>\n",
       "      <th>3</th>\n",
       "      <td>data/nyu2_train/living_room_0038_out/49.jpg</td>\n",
       "      <td>data/nyu2_train/living_room_0038_out/49.png</td>\n",
       "    </tr>\n",
       "    <tr>\n",
       "      <th>4</th>\n",
       "      <td>data/nyu2_train/living_room_0038_out/152.jpg</td>\n",
       "      <td>data/nyu2_train/living_room_0038_out/152.png</td>\n",
       "    </tr>\n",
       "    <tr>\n",
       "      <th>...</th>\n",
       "      <td>...</td>\n",
       "      <td>...</td>\n",
       "    </tr>\n",
       "    <tr>\n",
       "      <th>50683</th>\n",
       "      <td>data/nyu2_train/dining_room_0031_out/441.jpg</td>\n",
       "      <td>data/nyu2_train/dining_room_0031_out/441.png</td>\n",
       "    </tr>\n",
       "    <tr>\n",
       "      <th>50684</th>\n",
       "      <td>data/nyu2_train/dining_room_0031_out/365.jpg</td>\n",
       "      <td>data/nyu2_train/dining_room_0031_out/365.png</td>\n",
       "    </tr>\n",
       "    <tr>\n",
       "      <th>50685</th>\n",
       "      <td>data/nyu2_train/dining_room_0031_out/447.jpg</td>\n",
       "      <td>data/nyu2_train/dining_room_0031_out/447.png</td>\n",
       "    </tr>\n",
       "    <tr>\n",
       "      <th>50686</th>\n",
       "      <td>data/nyu2_train/dining_room_0031_out/90.jpg</td>\n",
       "      <td>data/nyu2_train/dining_room_0031_out/90.png</td>\n",
       "    </tr>\n",
       "    <tr>\n",
       "      <th>50687</th>\n",
       "      <td>data/nyu2_train/dining_room_0031_out/564.jpg</td>\n",
       "      <td>data/nyu2_train/dining_room_0031_out/564.png</td>\n",
       "    </tr>\n",
       "  </tbody>\n",
       "</table>\n",
       "<p>50688 rows × 2 columns</p>\n",
       "</div>"
      ],
      "text/plain": [
       "                                                rgb  \\\n",
       "0       data/nyu2_train/living_room_0038_out/37.jpg   \n",
       "1      data/nyu2_train/living_room_0038_out/115.jpg   \n",
       "2        data/nyu2_train/living_room_0038_out/6.jpg   \n",
       "3       data/nyu2_train/living_room_0038_out/49.jpg   \n",
       "4      data/nyu2_train/living_room_0038_out/152.jpg   \n",
       "...                                             ...   \n",
       "50683  data/nyu2_train/dining_room_0031_out/441.jpg   \n",
       "50684  data/nyu2_train/dining_room_0031_out/365.jpg   \n",
       "50685  data/nyu2_train/dining_room_0031_out/447.jpg   \n",
       "50686   data/nyu2_train/dining_room_0031_out/90.jpg   \n",
       "50687  data/nyu2_train/dining_room_0031_out/564.jpg   \n",
       "\n",
       "                                              depth  \n",
       "0       data/nyu2_train/living_room_0038_out/37.png  \n",
       "1      data/nyu2_train/living_room_0038_out/115.png  \n",
       "2        data/nyu2_train/living_room_0038_out/6.png  \n",
       "3       data/nyu2_train/living_room_0038_out/49.png  \n",
       "4      data/nyu2_train/living_room_0038_out/152.png  \n",
       "...                                             ...  \n",
       "50683  data/nyu2_train/dining_room_0031_out/441.png  \n",
       "50684  data/nyu2_train/dining_room_0031_out/365.png  \n",
       "50685  data/nyu2_train/dining_room_0031_out/447.png  \n",
       "50686   data/nyu2_train/dining_room_0031_out/90.png  \n",
       "50687  data/nyu2_train/dining_room_0031_out/564.png  \n",
       "\n",
       "[50688 rows x 2 columns]"
      ]
     },
     "execution_count": 10,
     "metadata": {},
     "output_type": "execute_result"
    }
   ],
   "source": [
    "nyu_df = pd.read_csv('./data/nyu2_train.csv', header=None)\n",
    "nyu_df.columns = ['rgb', 'depth']\n",
    "nyu_df"
   ]
  },
  {
   "cell_type": "code",
   "execution_count": 11,
   "id": "44e754f0",
   "metadata": {},
   "outputs": [
    {
     "name": "stderr",
     "output_type": "stream",
     "text": [
      "2022-03-16 06:36:59.174774: I tensorflow/core/platform/cpu_feature_guard.cc:151] This TensorFlow binary is optimized with oneAPI Deep Neural Network Library (oneDNN) to use the following CPU instructions in performance-critical operations:  AVX2 FMA\n",
      "To enable them in other operations, rebuild TensorFlow with the appropriate compiler flags.\n",
      "2022-03-16 06:36:59.298310: I tensorflow/stream_executor/cuda/cuda_gpu_executor.cc:939] successful NUMA node read from SysFS had negative value (-1), but there must be at least one NUMA node, so returning NUMA node zero\n",
      "2022-03-16 06:36:59.299119: I tensorflow/stream_executor/cuda/cuda_gpu_executor.cc:939] successful NUMA node read from SysFS had negative value (-1), but there must be at least one NUMA node, so returning NUMA node zero\n",
      "2022-03-16 06:36:59.299782: I tensorflow/stream_executor/cuda/cuda_gpu_executor.cc:939] successful NUMA node read from SysFS had negative value (-1), but there must be at least one NUMA node, so returning NUMA node zero\n",
      "2022-03-16 06:36:59.300443: I tensorflow/stream_executor/cuda/cuda_gpu_executor.cc:939] successful NUMA node read from SysFS had negative value (-1), but there must be at least one NUMA node, so returning NUMA node zero\n",
      "2022-03-16 06:36:59.301085: I tensorflow/stream_executor/cuda/cuda_gpu_executor.cc:939] successful NUMA node read from SysFS had negative value (-1), but there must be at least one NUMA node, so returning NUMA node zero\n",
      "2022-03-16 06:36:59.301762: I tensorflow/stream_executor/cuda/cuda_gpu_executor.cc:939] successful NUMA node read from SysFS had negative value (-1), but there must be at least one NUMA node, so returning NUMA node zero\n",
      "2022-03-16 06:36:59.856928: I tensorflow/stream_executor/cuda/cuda_gpu_executor.cc:939] successful NUMA node read from SysFS had negative value (-1), but there must be at least one NUMA node, so returning NUMA node zero\n",
      "2022-03-16 06:36:59.857723: I tensorflow/stream_executor/cuda/cuda_gpu_executor.cc:939] successful NUMA node read from SysFS had negative value (-1), but there must be at least one NUMA node, so returning NUMA node zero\n",
      "2022-03-16 06:36:59.858414: I tensorflow/stream_executor/cuda/cuda_gpu_executor.cc:939] successful NUMA node read from SysFS had negative value (-1), but there must be at least one NUMA node, so returning NUMA node zero\n",
      "2022-03-16 06:36:59.859117: I tensorflow/stream_executor/cuda/cuda_gpu_executor.cc:939] successful NUMA node read from SysFS had negative value (-1), but there must be at least one NUMA node, so returning NUMA node zero\n",
      "2022-03-16 06:36:59.859800: I tensorflow/stream_executor/cuda/cuda_gpu_executor.cc:939] successful NUMA node read from SysFS had negative value (-1), but there must be at least one NUMA node, so returning NUMA node zero\n",
      "2022-03-16 06:36:59.860504: I tensorflow/core/common_runtime/gpu/gpu_device.cc:1525] Created device /job:localhost/replica:0/task:0/device:GPU:0 with 19779 MB memory:  -> device: 0, name: NVIDIA GeForce RTX 3090, pci bus id: 0000:41:00.0, compute capability: 8.6\n",
      "2022-03-16 06:36:59.860849: I tensorflow/stream_executor/cuda/cuda_gpu_executor.cc:939] successful NUMA node read from SysFS had negative value (-1), but there must be at least one NUMA node, so returning NUMA node zero\n",
      "2022-03-16 06:36:59.861524: I tensorflow/core/common_runtime/gpu/gpu_device.cc:1525] Created device /job:localhost/replica:0/task:0/device:GPU:1 with 18846 MB memory:  -> device: 1, name: NVIDIA GeForce RTX 3090, pci bus id: 0000:43:00.0, compute capability: 8.6\n"
     ]
    }
   ],
   "source": [
    "img = tf.io.decode_image(tf.io.read_file(nyu_df['depth'][0]))"
   ]
  },
  {
   "cell_type": "code",
   "execution_count": 12,
   "id": "75e8aef4",
   "metadata": {},
   "outputs": [
    {
     "name": "stderr",
     "output_type": "stream",
     "text": [
      "libpng warning: iCCP: known incorrect sRGB profile\n"
     ]
    }
   ],
   "source": [
    "dot_pattern_ = cv2.imread(\"./data/kinect-pattern_3x3.png\", 0)\n",
    "\n",
    "focal_length  = 582.7  # focal length of the camera used \n",
    "baseline_m    = 0.075\n",
    "range_max=10;\n",
    "range_min=0;\n",
    "kernel_size= np.random.randint(1,45)\n",
    "blurr_angle= np.random.randint(1,45)\n"
   ]
  },
  {
   "cell_type": "code",
   "execution_count": 13,
   "id": "3753cd0f",
   "metadata": {},
   "outputs": [],
   "source": [
    "from utils.make_noisy_depth.make_noisy_image import *"
   ]
  },
  {
   "cell_type": "code",
   "execution_count": 14,
   "id": "7cfe3529",
   "metadata": {},
   "outputs": [],
   "source": [
    "def make_noisy_data(depth_path):\n",
    "    scale_factor  = 100\n",
    "    invalid_disp_ = 99999999.9\n",
    "    \n",
    "    img1 = tf.io.decode_image(tf.io.read_file(depth_path))\n",
    "    img1 = np.squeeze(img1.numpy())\n",
    "    \n",
    "    h, w = img1.shape[0], img1.shape[1]\n",
    "\n",
    "    depth =  img1.astype('float')/255.0*10\n",
    "\n",
    "    depth_interp = add_gaussian_shifts(depth, focal_length,baseline_m)\n",
    "\n",
    "    disp_= focal_length * baseline_m / (depth_interp + 1e-10)\n",
    "\n",
    "    depth_f = np.round(disp_ * 8.0)/8.0\n",
    "\n",
    "    out_disp = filterDisp(depth_f, dot_pattern_, invalid_disp_)\n",
    "\n",
    "    depth = focal_length * baseline_m / out_disp\n",
    "\n",
    "    depth[out_disp == invalid_disp_] = 0\n",
    "\n",
    "    noisy_depth = make_axial_noise(depth,range_max,range_min)\n",
    "    noisy_depth = noisy_depth * 255.0/10\n",
    "    noisy_depth = noisy_depth.astype('uint8')\n",
    "    \n",
    "    #blurr_image1=make_blurr(noisy_depth,kernel_size,blurr_angle)\n",
    "    \n",
    "    \n",
    "    return noisy_depth"
   ]
  },
  {
   "cell_type": "code",
   "execution_count": 15,
   "id": "966176d5",
   "metadata": {},
   "outputs": [
    {
     "data": {
      "text/plain": [
       "0         data/nyu2_train/living_room_0038_out/37.png\n",
       "1        data/nyu2_train/living_room_0038_out/115.png\n",
       "2          data/nyu2_train/living_room_0038_out/6.png\n",
       "3         data/nyu2_train/living_room_0038_out/49.png\n",
       "4        data/nyu2_train/living_room_0038_out/152.png\n",
       "                             ...                     \n",
       "50683    data/nyu2_train/dining_room_0031_out/441.png\n",
       "50684    data/nyu2_train/dining_room_0031_out/365.png\n",
       "50685    data/nyu2_train/dining_room_0031_out/447.png\n",
       "50686     data/nyu2_train/dining_room_0031_out/90.png\n",
       "50687    data/nyu2_train/dining_room_0031_out/564.png\n",
       "Name: depth, Length: 50688, dtype: object"
      ]
     },
     "execution_count": 15,
     "metadata": {},
     "output_type": "execute_result"
    }
   ],
   "source": [
    "nyu_df['depth']"
   ]
  },
  {
   "cell_type": "code",
   "execution_count": 16,
   "id": "22464775",
   "metadata": {},
   "outputs": [],
   "source": [
    "def make_train_ds(depth_path):\n",
    "    noisy_depth = make_noisy_data(depth_path)\n",
    "    #Save    \n",
    "    save_path = './data/noisy_train/'+depth_path[16:-3] + 'jpg'\n",
    "#     print(save_path)\n",
    "    cv2.imwrite(save_path, noisy_depth)\n",
    "    return save_path"
   ]
  },
  {
   "cell_type": "code",
   "execution_count": 17,
   "id": "28a40a88",
   "metadata": {},
   "outputs": [
    {
     "name": "stderr",
     "output_type": "stream",
     "text": [
      "saving data:./data/noisy_train/kitchen_0035b_out/39.jpg:  85%|██████████████████████████████████████████████████████████████████████████████████████████▊                | 43026/50688 [68:12:02<34:54:29, 16.40s/it]IOStream.flush timed out\n",
      "saving data:./data/noisy_train/dining_room_0031_out/564.jpg: 100%|██████████████████████████████████████████████████████████████████████████████████████████████████████████| 50688/50688 [80:07:48<00:00,  5.69s/it]\n"
     ]
    }
   ],
   "source": [
    "pbar = tqdm(nyu_df['depth'])\n",
    "for depth_path in pbar:\n",
    "    save_path = make_train_ds(depth_path)\n",
    "    pbar.set_description(f\"saving data:{save_path}\")\n"
   ]
  },
  {
   "cell_type": "code",
   "execution_count": null,
   "id": "e461b1f0",
   "metadata": {},
   "outputs": [],
   "source": []
  }
 ],
 "metadata": {
  "kernelspec": {
   "display_name": "Python 3 (ipykernel)",
   "language": "python",
   "name": "python3"
  },
  "language_info": {
   "codemirror_mode": {
    "name": "ipython",
    "version": 3
   },
   "file_extension": ".py",
   "mimetype": "text/x-python",
   "name": "python",
   "nbconvert_exporter": "python",
   "pygments_lexer": "ipython3",
   "version": "3.8.5"
  }
 },
 "nbformat": 4,
 "nbformat_minor": 5
}
